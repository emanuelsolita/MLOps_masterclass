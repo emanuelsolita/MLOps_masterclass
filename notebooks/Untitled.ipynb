{
 "cells": [
  {
   "cell_type": "code",
   "execution_count": 1,
   "id": "dd520b28",
   "metadata": {},
   "outputs": [
    {
     "name": "stderr",
     "output_type": "stream",
     "text": [
      "Failure while loading azureml_run_type_providers. Failed to load entrypoint azureml.scriptrun = azureml.core.script_run:ScriptRun._from_run_dto with exception (azure-mgmt-storage 20.0.0 (c:\\users\\emanu\\miniconda3\\envs\\my-env\\lib\\site-packages), Requirement.parse('azure-mgmt-storage<20.0.0,>=16.0.0')).\n",
      "Failure while loading azureml_run_type_providers. Failed to load entrypoint azureml.PipelineRun = azureml.pipeline.core.run:PipelineRun._from_dto with exception (azure-mgmt-storage 20.0.0 (c:\\users\\emanu\\miniconda3\\envs\\my-env\\lib\\site-packages), Requirement.parse('azure-mgmt-storage<20.0.0,>=16.0.0'), {'azureml-core'}).\n",
      "Failure while loading azureml_run_type_providers. Failed to load entrypoint azureml.ReusedStepRun = azureml.pipeline.core.run:StepRun._from_reused_dto with exception (azure-mgmt-storage 20.0.0 (c:\\users\\emanu\\miniconda3\\envs\\my-env\\lib\\site-packages), Requirement.parse('azure-mgmt-storage<20.0.0,>=16.0.0'), {'azureml-core'}).\n",
      "Failure while loading azureml_run_type_providers. Failed to load entrypoint azureml.StepRun = azureml.pipeline.core.run:StepRun._from_dto with exception (azure-mgmt-storage 20.0.0 (c:\\users\\emanu\\miniconda3\\envs\\my-env\\lib\\site-packages), Requirement.parse('azure-mgmt-storage<20.0.0,>=16.0.0'), {'azureml-core'}).\n",
      "Failure while loading azureml_run_type_providers. Failed to load entrypoint automl = azureml.train.automl.run:AutoMLRun._from_run_dto with exception (azure-mgmt-storage 20.0.0 (c:\\users\\emanu\\miniconda3\\envs\\my-env\\lib\\site-packages), Requirement.parse('azure-mgmt-storage<20.0.0,>=16.0.0'), {'azureml-core'}).\n",
      "Failure while loading azureml_run_type_providers. Failed to load entrypoint hyperdrive = azureml.train.hyperdrive:HyperDriveRun._from_run_dto with exception (azure-mgmt-storage 20.0.0 (c:\\users\\emanu\\miniconda3\\envs\\my-env\\lib\\site-packages), Requirement.parse('azure-mgmt-storage<20.0.0,>=16.0.0'), {'azureml-core'}).\n"
     ]
    },
    {
     "ename": "ImportError",
     "evalue": "cannot import name 'UserErrorExcepion' from 'azureml.exceptions' (C:\\Users\\emanu\\miniconda3\\envs\\my-env\\lib\\site-packages\\azureml\\exceptions\\__init__.py)",
     "output_type": "error",
     "traceback": [
      "\u001b[1;31m---------------------------------------------------------------------------\u001b[0m",
      "\u001b[1;31mImportError\u001b[0m                               Traceback (most recent call last)",
      "Input \u001b[1;32mIn [1]\u001b[0m, in \u001b[0;36m<cell line: 2>\u001b[1;34m()\u001b[0m\n\u001b[0;32m      1\u001b[0m \u001b[38;5;28;01mfrom\u001b[39;00m \u001b[38;5;21;01mazureml\u001b[39;00m\u001b[38;5;21;01m.\u001b[39;00m\u001b[38;5;21;01mcore\u001b[39;00m \u001b[38;5;28;01mimport\u001b[39;00m Workspace, Experiment, Dataset, Datastore, Run, Model\n\u001b[1;32m----> 2\u001b[0m \u001b[38;5;28;01mfrom\u001b[39;00m \u001b[38;5;21;01mazureml\u001b[39;00m\u001b[38;5;21;01m.\u001b[39;00m\u001b[38;5;21;01mexceptions\u001b[39;00m \u001b[38;5;28;01mimport\u001b[39;00m UserErrorExcepion\n",
      "\u001b[1;31mImportError\u001b[0m: cannot import name 'UserErrorExcepion' from 'azureml.exceptions' (C:\\Users\\emanu\\miniconda3\\envs\\my-env\\lib\\site-packages\\azureml\\exceptions\\__init__.py)"
     ]
    }
   ],
   "source": [
    "from azureml.core import Workspace, Experiment, Dataset, Datastore, Run, Model\n",
    "from azureml.exceptions import UserErrorExcepion"
   ]
  },
  {
   "cell_type": "code",
   "execution_count": 7,
   "id": "e433cfa5",
   "metadata": {},
   "outputs": [],
   "source": [
    "from azureml.core import Workspace, Experiment, Dataset, Datastore, Run, Model"
   ]
  },
  {
   "cell_type": "code",
   "execution_count": 18,
   "id": "6050cdaf",
   "metadata": {},
   "outputs": [],
   "source": [
    "from azureml.exceptions import UserErrorException"
   ]
  },
  {
   "cell_type": "code",
   "execution_count": 10,
   "id": "cb39f17c",
   "metadata": {},
   "outputs": [
    {
     "name": "stderr",
     "output_type": "stream",
     "text": [
      "Warning: Falling back to use azure cli login credentials.\n",
      "If you run your code in unattended mode, i.e., where you can't give a user input, then we recommend to use ServicePrincipalAuthentication or MsiAuthentication.\n",
      "Please refer to aka.ms/aml-notebook-auth for different authentication mechanisms in azureml-sdk.\n"
     ]
    }
   ],
   "source": [
    "ws = Workspace.from_config()"
   ]
  },
  {
   "cell_type": "code",
   "execution_count": 12,
   "id": "05fa67e8",
   "metadata": {},
   "outputs": [],
   "source": [
    "import pandas as pd"
   ]
  },
  {
   "cell_type": "code",
   "execution_count": 17,
   "id": "ec9e9872",
   "metadata": {},
   "outputs": [
    {
     "data": {
      "text/html": [
       "<div>\n",
       "<style scoped>\n",
       "    .dataframe tbody tr th:only-of-type {\n",
       "        vertical-align: middle;\n",
       "    }\n",
       "\n",
       "    .dataframe tbody tr th {\n",
       "        vertical-align: top;\n",
       "    }\n",
       "\n",
       "    .dataframe thead th {\n",
       "        text-align: right;\n",
       "    }\n",
       "</style>\n",
       "<table border=\"1\" class=\"dataframe\">\n",
       "  <thead>\n",
       "    <tr style=\"text-align: right;\">\n",
       "      <th></th>\n",
       "      <th>carat</th>\n",
       "      <th>cut</th>\n",
       "      <th>color</th>\n",
       "      <th>clarity</th>\n",
       "      <th>depth</th>\n",
       "      <th>table</th>\n",
       "      <th>price</th>\n",
       "      <th>x</th>\n",
       "      <th>y</th>\n",
       "      <th>z</th>\n",
       "    </tr>\n",
       "  </thead>\n",
       "  <tbody>\n",
       "    <tr>\n",
       "      <th>0</th>\n",
       "      <td>1.50</td>\n",
       "      <td>Fair</td>\n",
       "      <td>G</td>\n",
       "      <td>SI1</td>\n",
       "      <td>64.5</td>\n",
       "      <td>57.0</td>\n",
       "      <td>10352.0</td>\n",
       "      <td>7.15</td>\n",
       "      <td>7.09</td>\n",
       "      <td>4.59</td>\n",
       "    </tr>\n",
       "    <tr>\n",
       "      <th>1</th>\n",
       "      <td>0.70</td>\n",
       "      <td>Ideal</td>\n",
       "      <td>E</td>\n",
       "      <td>VS2</td>\n",
       "      <td>61.4</td>\n",
       "      <td>57.0</td>\n",
       "      <td>2274.0</td>\n",
       "      <td>5.72</td>\n",
       "      <td>5.78</td>\n",
       "      <td>3.53</td>\n",
       "    </tr>\n",
       "    <tr>\n",
       "      <th>2</th>\n",
       "      <td>1.22</td>\n",
       "      <td>Premium</td>\n",
       "      <td>G</td>\n",
       "      <td>VS1</td>\n",
       "      <td>61.3</td>\n",
       "      <td>58.0</td>\n",
       "      <td>8779.0</td>\n",
       "      <td>6.91</td>\n",
       "      <td>6.89</td>\n",
       "      <td>4.23</td>\n",
       "    </tr>\n",
       "    <tr>\n",
       "      <th>3</th>\n",
       "      <td>0.51</td>\n",
       "      <td>Premium</td>\n",
       "      <td>E</td>\n",
       "      <td>VS2</td>\n",
       "      <td>62.5</td>\n",
       "      <td>60.0</td>\n",
       "      <td>1590.0</td>\n",
       "      <td>5.08</td>\n",
       "      <td>5.10</td>\n",
       "      <td>3.18</td>\n",
       "    </tr>\n",
       "    <tr>\n",
       "      <th>4</th>\n",
       "      <td>2.02</td>\n",
       "      <td>Very Good</td>\n",
       "      <td>J</td>\n",
       "      <td>SI2</td>\n",
       "      <td>59.2</td>\n",
       "      <td>60.0</td>\n",
       "      <td>11757.0</td>\n",
       "      <td>8.27</td>\n",
       "      <td>8.39</td>\n",
       "      <td>4.91</td>\n",
       "    </tr>\n",
       "  </tbody>\n",
       "</table>\n",
       "</div>"
      ],
      "text/plain": [
       "   carat        cut color clarity  depth  table    price     x     y     z\n",
       "0   1.50       Fair     G     SI1   64.5   57.0  10352.0  7.15  7.09  4.59\n",
       "1   0.70      Ideal     E     VS2   61.4   57.0   2274.0  5.72  5.78  3.53\n",
       "2   1.22    Premium     G     VS1   61.3   58.0   8779.0  6.91  6.89  4.23\n",
       "3   0.51    Premium     E     VS2   62.5   60.0   1590.0  5.08  5.10  3.18\n",
       "4   2.02  Very Good     J     SI2   59.2   60.0  11757.0  8.27  8.39  4.91"
      ]
     },
     "execution_count": 17,
     "metadata": {},
     "output_type": "execute_result"
    }
   ],
   "source": [
    "df = pd.read_csv(\"C:\\\\Users\\\\emanu\\\\OneDrive\\\\Documents\\\\MLOps\\\\MLOps_masterclass\\\\DiamondData.csv\")\n",
    "df.head()"
   ]
  },
  {
   "cell_type": "code",
   "execution_count": 20,
   "id": "5874ee68",
   "metadata": {},
   "outputs": [],
   "source": [
    "try:\n",
    "    dataset = Dataset.get_by_name(ws, name=\"my-dimond-dataset\")\n",
    "except UserErrorException as ue:\n",
    "    datastore = Datastore.get_default(ws)\n",
    "    dataset = Dataset.Tabular.register_pandas_dataframe(\n",
    "        df,\n",
    "        datastore,\n",
    "        show_progress=True,\n",
    "        name='my-dimond-dataset',\n",
    "        description='This is some dataset'\n",
    "    )"
   ]
  },
  {
   "cell_type": "code",
   "execution_count": 21,
   "id": "b685eacc",
   "metadata": {},
   "outputs": [
    {
     "data": {
      "text/html": [
       "<div>\n",
       "<style scoped>\n",
       "    .dataframe tbody tr th:only-of-type {\n",
       "        vertical-align: middle;\n",
       "    }\n",
       "\n",
       "    .dataframe tbody tr th {\n",
       "        vertical-align: top;\n",
       "    }\n",
       "\n",
       "    .dataframe thead th {\n",
       "        text-align: right;\n",
       "    }\n",
       "</style>\n",
       "<table border=\"1\" class=\"dataframe\">\n",
       "  <thead>\n",
       "    <tr style=\"text-align: right;\">\n",
       "      <th></th>\n",
       "      <th>carat</th>\n",
       "      <th>cut</th>\n",
       "      <th>color</th>\n",
       "      <th>clarity</th>\n",
       "      <th>depth</th>\n",
       "      <th>table</th>\n",
       "      <th>price</th>\n",
       "      <th>x</th>\n",
       "      <th>y</th>\n",
       "      <th>z</th>\n",
       "    </tr>\n",
       "  </thead>\n",
       "  <tbody>\n",
       "    <tr>\n",
       "      <th>0</th>\n",
       "      <td>1.50</td>\n",
       "      <td>Fair</td>\n",
       "      <td>G</td>\n",
       "      <td>SI1</td>\n",
       "      <td>64.5</td>\n",
       "      <td>57.0</td>\n",
       "      <td>10352.0</td>\n",
       "      <td>7.15</td>\n",
       "      <td>7.09</td>\n",
       "      <td>4.59</td>\n",
       "    </tr>\n",
       "    <tr>\n",
       "      <th>1</th>\n",
       "      <td>0.70</td>\n",
       "      <td>Ideal</td>\n",
       "      <td>E</td>\n",
       "      <td>VS2</td>\n",
       "      <td>61.4</td>\n",
       "      <td>57.0</td>\n",
       "      <td>2274.0</td>\n",
       "      <td>5.72</td>\n",
       "      <td>5.78</td>\n",
       "      <td>3.53</td>\n",
       "    </tr>\n",
       "    <tr>\n",
       "      <th>2</th>\n",
       "      <td>1.22</td>\n",
       "      <td>Premium</td>\n",
       "      <td>G</td>\n",
       "      <td>VS1</td>\n",
       "      <td>61.3</td>\n",
       "      <td>58.0</td>\n",
       "      <td>8779.0</td>\n",
       "      <td>6.91</td>\n",
       "      <td>6.89</td>\n",
       "      <td>4.23</td>\n",
       "    </tr>\n",
       "    <tr>\n",
       "      <th>3</th>\n",
       "      <td>0.51</td>\n",
       "      <td>Premium</td>\n",
       "      <td>E</td>\n",
       "      <td>VS2</td>\n",
       "      <td>62.5</td>\n",
       "      <td>60.0</td>\n",
       "      <td>1590.0</td>\n",
       "      <td>5.08</td>\n",
       "      <td>5.10</td>\n",
       "      <td>3.18</td>\n",
       "    </tr>\n",
       "    <tr>\n",
       "      <th>4</th>\n",
       "      <td>2.02</td>\n",
       "      <td>Very Good</td>\n",
       "      <td>J</td>\n",
       "      <td>SI2</td>\n",
       "      <td>59.2</td>\n",
       "      <td>60.0</td>\n",
       "      <td>11757.0</td>\n",
       "      <td>8.27</td>\n",
       "      <td>8.39</td>\n",
       "      <td>4.91</td>\n",
       "    </tr>\n",
       "  </tbody>\n",
       "</table>\n",
       "</div>"
      ],
      "text/plain": [
       "   carat        cut color clarity  depth  table    price     x     y     z\n",
       "0   1.50       Fair     G     SI1   64.5   57.0  10352.0  7.15  7.09  4.59\n",
       "1   0.70      Ideal     E     VS2   61.4   57.0   2274.0  5.72  5.78  3.53\n",
       "2   1.22    Premium     G     VS1   61.3   58.0   8779.0  6.91  6.89  4.23\n",
       "3   0.51    Premium     E     VS2   62.5   60.0   1590.0  5.08  5.10  3.18\n",
       "4   2.02  Very Good     J     SI2   59.2   60.0  11757.0  8.27  8.39  4.91"
      ]
     },
     "execution_count": 21,
     "metadata": {},
     "output_type": "execute_result"
    }
   ],
   "source": [
    "df = dataset.to_pandas_dataframe()\n",
    "df.head()"
   ]
  },
  {
   "cell_type": "code",
   "execution_count": null,
   "id": "27e5fc60",
   "metadata": {},
   "outputs": [],
   "source": []
  }
 ],
 "metadata": {
  "kernelspec": {
   "display_name": "Python 3 (ipykernel)",
   "language": "python",
   "name": "python3"
  },
  "language_info": {
   "codemirror_mode": {
    "name": "ipython",
    "version": 3
   },
   "file_extension": ".py",
   "mimetype": "text/x-python",
   "name": "python",
   "nbconvert_exporter": "python",
   "pygments_lexer": "ipython3",
   "version": "3.8.13"
  }
 },
 "nbformat": 4,
 "nbformat_minor": 5
}
